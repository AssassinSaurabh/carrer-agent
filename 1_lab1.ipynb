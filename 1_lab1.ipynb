{
 "cells": [
  {
   "cell_type": "markdown",
   "metadata": {},
   "source": [
    "# Welcome to the start of your adventure in Agentic AI"
   ]
  },
  {
   "cell_type": "markdown",
   "metadata": {},
   "source": [
    "<table style=\"margin: 0; text-align: left; width:100%\">\n",
    "    <tr>\n",
    "        <td style=\"width: 150px; height: 150px; vertical-align: middle;\">\n",
    "            <img src=\"../assets/stop.png\" width=\"150\" height=\"150\" style=\"display: block;\" />\n",
    "        </td>\n",
    "        <td>\n",
    "            <h2 style=\"color:#ff7800;\">Are you ready for action??</h2>\n",
    "            <span style=\"color:#ff7800;\">Have you completed all the setup steps in the <a href=\"../setup/\">setup</a> folder?<br/>\n",
    "            Have you read the <a href=\"../README.md\">README</a>? Many common questions are answered here!<br/>\n",
    "            Have you checked out the guides in the <a href=\"../guides/01_intro.ipynb\">guides</a> folder?<br/>\n",
    "            Well in that case, you're ready!!\n",
    "            </span>\n",
    "        </td>\n",
    "    </tr>\n",
    "</table>"
   ]
  },
  {
   "cell_type": "markdown",
   "metadata": {},
   "source": [
    "<table style=\"margin: 0; text-align: left; width:100%\">\n",
    "    <tr>\n",
    "        <td style=\"width: 150px; height: 150px; vertical-align: middle;\">\n",
    "            <img src=\"../assets/tools.png\" width=\"150\" height=\"150\" style=\"display: block;\" />\n",
    "        </td>\n",
    "        <td>\n",
    "            <h2 style=\"color:#00bfff;\">This code is a live resource - keep an eye out for my updates</h2>\n",
    "            <span style=\"color:#00bfff;\">I push updates regularly. As people ask questions or have problems, I add more examples and improve explanations. As a result, the code below might not be identical to the videos, as I've added more steps and better comments. Consider this like an interactive book that accompanies the lectures.<br/><br/>\n",
    "            I try to send emails regularly with important updates related to the course. You can find this in the 'Announcements' section of Udemy in the left sidebar. You can also choose to receive my emails via your Notification Settings in Udemy. I'm respectful of your inbox and always try to add value with my emails!\n",
    "            </span>\n",
    "        </td>\n",
    "    </tr>\n",
    "</table>"
   ]
  },
  {
   "cell_type": "markdown",
   "metadata": {},
   "source": [
    "### And please do remember to contact me if I can help\n",
    "\n",
    "And I love to connect: https://www.linkedin.com/in/eddonner/\n",
    "\n",
    "\n",
    "### New to Notebooks like this one? Head over to the guides folder!\n",
    "\n",
    "Just to check you've already added the Python and Jupyter extensions to Cursor, if not already installed:\n",
    "- Open extensions (View >> extensions)\n",
    "- Search for python, and when the results show, click on the ms-python one, and Install it if not already installed\n",
    "- Search for jupyter, and when the results show, click on the Microsoft one, and Install it if not already installed  \n",
    "Then View >> Explorer to bring back the File Explorer.\n",
    "\n",
    "And then:\n",
    "1. Click where it says \"Select Kernel\" near the top right, and select the option called `.venv (Python 3.12.9)` or similar, which should be the first choice or the most prominent choice. You may need to choose \"Python Environments\" first.\n",
    "2. Click in each \"cell\" below, starting with the cell immediately below this text, and press Shift+Enter to run\n",
    "3. Enjoy!\n",
    "\n",
    "After you click \"Select Kernel\", if there is no option like `.venv (Python 3.12.9)` then please do the following:  \n",
    "1. On Mac: From the Cursor menu, choose Settings >> VS Code Settings (NOTE: be sure to select `VSCode Settings` not `Cursor Settings`);  \n",
    "On Windows PC: From the File menu, choose Preferences >> VS Code Settings(NOTE: be sure to select `VSCode Settings` not `Cursor Settings`)  \n",
    "2. In the Settings search bar, type \"venv\"  \n",
    "3. In the field \"Path to folder with a list of Virtual Environments\" put the path to the project root, like C:\\Users\\username\\projects\\agents (on a Windows PC) or /Users/username/projects/agents (on Mac or Linux).  \n",
    "And then try again.\n",
    "\n",
    "Having problems with missing Python versions in that list? Have you ever used Anaconda before? It might be interferring. Quit Cursor, bring up a new command line, and make sure that your Anaconda environment is deactivated:    \n",
    "`conda deactivate`  \n",
    "And if you still have any problems with conda and python versions, it's possible that you will need to run this too:  \n",
    "`conda config --set auto_activate_base false`  \n",
    "and then from within the Agents directory, you should be able to run `uv python list` and see the Python 3.12 version."
   ]
  },
  {
   "cell_type": "code",
   "execution_count": 5,
   "metadata": {},
   "outputs": [],
   "source": [
    "# First let's do an import. If you get an Import Error, double check that your Kernel is correct..\n",
    "\n",
    "from dotenv import load_dotenv\n"
   ]
  },
  {
   "cell_type": "code",
   "execution_count": 6,
   "metadata": {},
   "outputs": [
    {
     "data": {
      "text/plain": [
       "True"
      ]
     },
     "execution_count": 6,
     "metadata": {},
     "output_type": "execute_result"
    }
   ],
   "source": [
    "# Next it's time to load the API keys into environment variables\n",
    "# If this returns false, see the next cell!\n",
    "\n",
    "load_dotenv(override=True) "
   ]
  },
  {
   "cell_type": "markdown",
   "metadata": {},
   "source": [
    "### Wait, did that just output `False`??\n",
    "\n",
    "If so, the most common reason is that you didn't save your `.env` file after adding the key! Be sure to have saved.\n",
    "\n",
    "Also, make sure the `.env` file is named precisely `.env` and is in the project root directory (`agents`)\n",
    "\n",
    "By the way, your `.env` file should have a stop symbol next to it in Cursor on the left, and that's actually a good thing: that's Cursor saying to you, \"hey, I realize this is a file filled with secret information, and I'm not going to send it to an external AI to suggest changes, because your keys should not be shown to anyone else.\""
   ]
  },
  {
   "cell_type": "markdown",
   "metadata": {},
   "source": [
    "<table style=\"margin: 0; text-align: left; width:100%\">\n",
    "    <tr>\n",
    "        <td style=\"width: 150px; height: 150px; vertical-align: middle;\">\n",
    "            <img src=\"../assets/stop.png\" width=\"150\" height=\"150\" style=\"display: block;\" />\n",
    "        </td>\n",
    "        <td>\n",
    "            <h2 style=\"color:#ff7800;\">Final reminders</h2>\n",
    "            <span style=\"color:#ff7800;\">1. If you're not confident about Environment Variables or Web Endpoints / APIs, please read Topics 3 and 5 in this <a href=\"../guides/04_technical_foundations.ipynb\">technical foundations guide</a>.<br/>\n",
    "            2. If you want to use AIs other than OpenAI, like Gemini, DeepSeek or Ollama (free), please see the first section in this <a href=\"../guides/09_ai_apis_and_ollama.ipynb\">AI APIs guide</a>.<br/>\n",
    "            3. If you ever get a Name Error in Python, you can always fix it immediately; see the last section of this <a href=\"../guides/06_python_foundations.ipynb\">Python Foundations guide</a> and follow both tutorials and exercises.<br/>\n",
    "            </span>\n",
    "        </td>\n",
    "    </tr>\n",
    "</table>"
   ]
  },
  {
   "cell_type": "code",
   "execution_count": 7,
   "metadata": {},
   "outputs": [
    {
     "name": "stdout",
     "output_type": "stream",
     "text": [
      "OpenAI API Key exists and begins sk-proj-\n"
     ]
    }
   ],
   "source": [
    "# Check the key - if you're not using OpenAI, check whichever key you're using! Ollama doesn't need a key.\n",
    "\n",
    "import os\n",
    "openai_api_key = os.getenv('OPENAI_API_KEY')\n",
    "\n",
    "if openai_api_key:\n",
    "    print(f\"OpenAI API Key exists and begins {openai_api_key[:8]}\")\n",
    "else:\n",
    "    print(\"OpenAI API Key not set - please head to the troubleshooting guide in the setup folder\")\n",
    "    \n"
   ]
  },
  {
   "cell_type": "code",
   "execution_count": 8,
   "metadata": {},
   "outputs": [],
   "source": [
    "# And now - the all important import statement\n",
    "# If you get an import error - head over to troubleshooting in the Setup folder\n",
    "# Even for other LLM providers like Gemini, you still use this OpenAI import - see Guide 9 for why\n",
    "\n",
    "from openai import OpenAI"
   ]
  },
  {
   "cell_type": "code",
   "execution_count": 9,
   "metadata": {},
   "outputs": [],
   "source": [
    "# And now we'll create an instance of the OpenAI class\n",
    "# If you're not sure what it means to create an instance of a class - head over to the guides folder (guide 6)!\n",
    "# If you get a NameError - head over to the guides folder (guide 6)to learn about NameErrors - always instantly fixable\n",
    "# If you're not using OpenAI, you just need to slightly modify this - precise instructions are in the AI APIs guide (guide 9)\n",
    "\n",
    "openai = OpenAI() "
   ]
  },
  {
   "cell_type": "code",
   "execution_count": 10,
   "metadata": {},
   "outputs": [],
   "source": [
    "# Create a list of messages in the familiar OpenAI format\n",
    "\n",
    "messages = [{\"role\": \"user\", \"content\": \"What is 2+2?\"}]"
   ]
  },
  {
   "cell_type": "code",
   "execution_count": 11,
   "metadata": {},
   "outputs": [
    {
     "name": "stdout",
     "output_type": "stream",
     "text": [
      "2 + 2 equals 4.\n"
     ]
    }
   ],
   "source": [
    "# And now call it! Any problems, head to the troubleshooting guide\n",
    "# This uses GPT 4.1 nano, the incredibly cheap model\n",
    "# The APIs guide (guide 9) has exact instructions for using even cheaper or free alternatives to OpenAI\n",
    "# If you get a NameError, head to the guides folder (guide 6) to learn about NameErrors - always instantly fixable\n",
    "\n",
    "response = openai.chat.completions.create(\n",
    "    model=\"gpt-4o-mini\",\n",
    "    messages=messages\n",
    ")\n",
    "print(response.choices[0].message.content)"
   ]
  },
  {
   "cell_type": "code",
   "execution_count": 12,
   "metadata": {},
   "outputs": [],
   "source": [
    "# And now - let's ask for a question:\n",
    "\n",
    "question = \"Please propose a hard, challenging question to assess someone's IQ. Respond only with the question.\"\n",
    "messages = [{\"role\": \"user\", \"content\": question}] \n"
   ]
  },
  {
   "cell_type": "code",
   "execution_count": 13,
   "metadata": {},
   "outputs": [
    {
     "name": "stdout",
     "output_type": "stream",
     "text": [
      "If 3 consecutive integers added together equal 99, what is the value of the smallest integer?\n"
     ]
    }
   ],
   "source": [
    "# ask it - this uses GPT 4.1 mini, still cheap but more powerful than nano\n",
    "\n",
    "response = openai.chat.completions.create(\n",
    "    model=\"gpt-4.1-mini\",\n",
    "    messages=messages\n",
    ")\n",
    "\n",
    "question = response.choices[0].message.content\n",
    "\n",
    "print(question)\n"
   ]
  },
  {
   "cell_type": "code",
   "execution_count": 14,
   "metadata": {},
   "outputs": [],
   "source": [
    "# form a new messages list\n",
    "messages = [{\"role\": \"user\", \"content\": question}] \n"
   ]
  },
  {
   "cell_type": "code",
   "execution_count": 15,
   "metadata": {},
   "outputs": [
    {
     "name": "stdout",
     "output_type": "stream",
     "text": [
      "Let the three consecutive integers be:\n",
      "\\[\n",
      "n, \\quad n+1, \\quad n+2\n",
      "\\]\n",
      "\n",
      "Their sum is given as 99:\n",
      "\\[\n",
      "n + (n+1) + (n+2) = 99\n",
      "\\]\n",
      "\n",
      "Combine like terms:\n",
      "\\[\n",
      "3n + 3 = 99\n",
      "\\]\n",
      "\n",
      "Subtract 3 from both sides:\n",
      "\\[\n",
      "3n = 96\n",
      "\\]\n",
      "\n",
      "Divide both sides by 3:\n",
      "\\[\n",
      "n = 32\n",
      "\\]\n",
      "\n",
      "**Answer:**\n",
      "\n",
      "\\[\n",
      "\\boxed{32}\n",
      "\\]\n",
      "\n",
      "The smallest integer is 32.\n"
     ]
    }
   ],
   "source": [
    "# Ask it again\n",
    "\n",
    "response = openai.chat.completions.create(\n",
    "    model=\"gpt-4.1-mini\",\n",
    "    messages=messages\n",
    ")\n",
    "\n",
    "answer = response.choices[0].message.content\n",
    "print(answer)\n"
   ]
  },
  {
   "cell_type": "code",
   "execution_count": 16,
   "metadata": {},
   "outputs": [
    {
     "data": {
      "text/markdown": [
       "Let the three consecutive integers be:\n",
       "\\[\n",
       "n, \\quad n+1, \\quad n+2\n",
       "\\]\n",
       "\n",
       "Their sum is given as 99:\n",
       "\\[\n",
       "n + (n+1) + (n+2) = 99\n",
       "\\]\n",
       "\n",
       "Combine like terms:\n",
       "\\[\n",
       "3n + 3 = 99\n",
       "\\]\n",
       "\n",
       "Subtract 3 from both sides:\n",
       "\\[\n",
       "3n = 96\n",
       "\\]\n",
       "\n",
       "Divide both sides by 3:\n",
       "\\[\n",
       "n = 32\n",
       "\\]\n",
       "\n",
       "**Answer:**\n",
       "\n",
       "\\[\n",
       "\\boxed{32}\n",
       "\\]\n",
       "\n",
       "The smallest integer is 32."
      ],
      "text/plain": [
       "<IPython.core.display.Markdown object>"
      ]
     },
     "metadata": {},
     "output_type": "display_data"
    }
   ],
   "source": [
    "from IPython.display import Markdown, display\n",
    "\n",
    "display(Markdown(answer)) \n",
    "\n"
   ]
  },
  {
   "cell_type": "markdown",
   "metadata": {},
   "source": [
    "# Congratulations!\n",
    "\n",
    "That was a small, simple step in the direction of Agentic AI, with your new environment!\n",
    "\n",
    "Next time things get more interesting..."
   ]
  },
  {
   "cell_type": "markdown",
   "metadata": {},
   "source": [
    "<table style=\"margin: 0; text-align: left; width:100%\">\n",
    "    <tr>\n",
    "        <td style=\"width: 150px; height: 150px; vertical-align: middle;\">\n",
    "            <img src=\"../assets/exercise.png\" width=\"150\" height=\"150\" style=\"display: block;\" />\n",
    "        </td>\n",
    "        <td>\n",
    "            <h2 style=\"color:#ff7800;\">Exercise</h2>\n",
    "            <span style=\"color:#ff7800;\">Now try this commercial application:<br/>\n",
    "            First ask the LLM to pick a business area that might be worth exploring for an Agentic AI opportunity.<br/>\n",
    "            Then ask the LLM to present a pain-point in that industry - something challenging that might be ripe for an Agentic solution.<br/>\n",
    "            Finally have 3 third LLM call propose the Agentic AI solution. <br/>\n",
    "            We will cover this at up-coming labs, so don't worry if you're unsure.. just give it a try!\n",
    "            </span>\n",
    "        </td>\n",
    "    </tr>\n",
    "</table>"
   ]
  },
  {
   "cell_type": "code",
   "execution_count": 21,
   "metadata": {},
   "outputs": [
    {
     "name": "stdout",
     "output_type": "stream",
     "text": [
      "Starting a cybersecurity and AI business can be a lucrative venture, given the increasing demand for security solutions and the integration of AI in various fields. Here are some business ideas that combine cybersecurity and AI:\n",
      "\n",
      "1. **AI-Powered Threat Detection and Response**:\n",
      "   - Develop a platform that utilizes AI to monitor network traffic and detect anomalies or potential threats in real time. This could include machine learning algorithms that adapt to new threats as they emerge.\n",
      "\n",
      "2. **Automated Security Compliance Solutions**:\n",
      "   - Create a service that helps businesses stay compliant with cybersecurity regulations (like GDPR, HIPAA, etc.) using AI to analyze data breaches and recommend best practices for compliance.\n",
      "\n",
      "3. **Phishing Detection and Prevention Tools**:\n",
      "   - Build an AI-based solution to identify and block phishing attempts. This can involve email filtering, website verification, and user education to mitigate risks.\n",
      "\n",
      "4. **AI Security Training Programs**:\n",
      "   - Offer cybersecurity training programs that incorporate AI to personalize learning experiences. Use AI-driven analytics to assess knowledge gaps and tailor content for employees.\n",
      "\n",
      "5. **Vulnerability Assessment Services**:\n",
      "   - Launch a service that uses AI to automate vulnerability scanning and assessment for organizations, providing reports and remediation strategies based on the findings.\n",
      "\n",
      "6. **Identity and Access Management (IAM) Solutions**:\n",
      "   - Develop an AI-driven IAM platform that uses biometric data, behavioral analytics, and machine learning to enhance user authentication and access control.\n",
      "\n",
      "7. **Incident Response as a Service (IRaaS)**:\n",
      "   - Provide a subscription-based service where organizations can enlist AI-enhanced incident response teams to handle breaches and other cybersecurity incidents.\n",
      "\n",
      "8. **AI for IoT Security**:\n",
      "   - Focus on securing Internet of Things (IoT) devices by creating an AI application that analyzes device behavior and identifies potential security threats.\n",
      "\n",
      "9. **Security Information and Event Management (SIEM) Systems**:\n",
      "   - Create a cloud-based SIEM platform that leverages AI to enhance threat intelligence and incident response capabilities for businesses of all sizes.\n",
      "\n",
      "10. **Fraud Detection and Prevention Systems**:\n",
      "    - Develop AI solutions for industries prone to fraud (e.g., finance, e-commerce) to analyze transaction patterns and detect fraudulent activities in real-time.\n",
      "\n",
      "11. **Security Audit and Consulting Services**:\n",
      "    - Offer consulting services that leverage AI tools to conduct security audits, risk assessments, and provide tailored security planning for organizations.\n",
      "\n",
      "12. **Data Loss Prevention (DLP) Solutions**:\n",
      "    - Create AI-driven DLP solutions that monitor data use and sharing within organizations to prevent unauthorized data access or breaches.\n",
      "\n",
      "### Steps to Start Your Business:\n",
      "\n",
      "1. **Market Research**: Identify your target market, understand their needs, and analyze competitors in the space.\n",
      "2. **Business Plan**: Develop a comprehensive business plan detailing your offerings, revenue model, marketing strategy, and financial projections.\n",
      "3. **Regulatory Compliance**: Ensure you are aware of and comply with relevant laws and regulations governing cybersecurity and AI in your jurisdiction.\n",
      "4. **Build a Team**: Assemble a team with expertise in cybersecurity, AI, and business development to help bring your vision to life.\n",
      "5. **Develop Your Product**: Focus on creating a minimum viable product (MVP) that you can test and iterate based on user feedback.\n",
      "6. **Funding**: Consider options for funding, including bootstrapping, venture capital, or government grants.\n",
      "7. **Marketing**: Develop a marketing strategy to reach potential customers, leveraging digital marketing, content marketing, and networking within the industry.\n",
      "\n",
      "### Conclusion:\n",
      "\n",
      "By leveraging the strengths of AI in cybersecurity, you can create innovative solutions that address pressing security challenges faced by businesses today. Choose a niche that aligns with your interests and expertise, and remain adaptable to the ever-evolving cybersecurity landscape.\n"
     ]
    }
   ],
   "source": [
    "# First create the messages:\n",
    "\n",
    "messages = [{\"role\": \"user\", \"content\": \"What is The best Cyberseurity and Ai Bussiness we can Start \"}]\n",
    "\n",
    "# Then make the first call:\n",
    "\n",
    "response = openai.chat.completions.create(\n",
    "    model=\"gpt-4o-mini\",\n",
    "    messages=messages,\n",
    "\n",
    ")\n",
    "\n",
    "# Then read the business idea:\n",
    "\n",
    "business_idea = response.choices[0].message.content\n",
    "\n",
    "print(business_idea)\n",
    "\n",
    "\n",
    "# And repeat! In the next message, include the business idea within the message \n"
   ]
  },
  {
   "cell_type": "markdown",
   "metadata": {},
   "source": []
  },
  {
   "cell_type": "code",
   "execution_count": 22,
   "metadata": {},
   "outputs": [
    {
     "name": "stdout",
     "output_type": "stream",
     "text": [
      "When starting a cybersecurity and AI business, it's essential to identify the specific pain points that target customers are facing. Understanding these challenges can help you craft effective solutions. Here are several common pain points in the cybersecurity industry that your venture might address:\n",
      "\n",
      "1. **Increasing Sophistication of Cyber Threats**:\n",
      "   - Businesses often struggle to keep up with the evolving landscape of cyber threats, such as zero-day attacks, ransomware, and advanced persistent threats (APTs). They need solutions that can adapt and evolve accordingly.\n",
      "\n",
      "2. **Talent Shortage in Cybersecurity**:\n",
      "   - Many organizations face a shortage of skilled cybersecurity professionals. The demand for talent is high, and companies often lack the resources to hire or retain experienced staff, creating a need for automated solutions.\n",
      "\n",
      "3. **Complexity of Compliance**:\n",
      "   - Navigating the myriad of cybersecurity regulations (like GDPR, HIPAA, CCPA) can be overwhelming. Companies need user-friendly tools that simplify compliance management, assessments, and reporting.\n",
      "\n",
      "4. **Data Breaches and Insider Threats**:\n",
      "   - Organizations are concerned about data breaches not just from external threats but also from insider threats. They require better monitoring and detection solutions to protect sensitive information.\n",
      "\n",
      "5. **Lack of Visibility and Real-time Monitoring**:\n",
      "   - Many businesses lack adequate visibility into their networks and systems. They need solutions that provide real-time monitoring and alerts for suspicious activities.\n",
      "\n",
      "6. **High Costs of Cybersecurity Solutions**:\n",
      "   - Small and medium-sized enterprises (SMEs) often find comprehensive security solutions out of their budget. They are looking for affordable, scalable solutions that meet their needs without breaking the bank.\n",
      "\n",
      "7. **User Behavior and Awareness**:\n",
      "   - Employees often unintentionally contribute to security risks due to a lack of awareness. Organizations need better training solutions that can engage employees and raise awareness effectively.\n",
      "\n",
      "8. **Integration Challenges**:\n",
      "   - Many businesses use a variety of security tools that may not integrate well with each other. There is a need for centralized platforms that streamline operations and enhance collaboration among different security solutions.\n",
      "\n",
      "9. **Slow Incident Response**:\n",
      "   - The time taken to respond to incidents can affect the severity of data breaches. Companies require faster incident response solutions that can leverage AI and automation to mitigate threats swiftly.\n",
      "\n",
      "10. **Managing the Security of IoT Devices**:\n",
      "    - With the proliferation of IoT devices, businesses struggle to secure connected devices that often have minimal built-in protections. They need comprehensive strategies to manage and secure these devices.\n",
      "\n",
      "### Conclusion\n",
      "\n",
      "By identifying these pain points, your cybersecurity and AI business can tailor its offerings to address specific needs in the market. For example, if you focus on automated compliance solutions, you can target organizations overwhelmed by regulatory requirements. Similarly, emphasizing AI-powered threat detection can attract businesses struggling with the sophistication of current cyber threats. Your unique solutions can help alleviate these pain points, making your business more attractive to potential clients.\n"
     ]
    }
   ],
   "source": [
    "PainPoint  = [{\"role\": \"user\", \"content\": business_idea + \" What Is the pain Point \"}]\n",
    "\n",
    "response = openai.chat.completions.create(\n",
    "    model=\"gpt-4o-mini\",\n",
    "    messages=PainPoint,\n",
    "\n",
    ")\n",
    "print(response.choices[0].message.content)"
   ]
  },
  {
   "cell_type": "code",
   "execution_count": null,
   "metadata": {},
   "outputs": [],
   "source": []
  }
 ],
 "metadata": {
  "kernelspec": {
   "display_name": ".venv",
   "language": "python",
   "name": "python3"
  },
  "language_info": {
   "codemirror_mode": {
    "name": "ipython",
    "version": 3
   },
   "file_extension": ".py",
   "mimetype": "text/x-python",
   "name": "python",
   "nbconvert_exporter": "python",
   "pygments_lexer": "ipython3",
   "version": "3.12.11"
  }
 },
 "nbformat": 4,
 "nbformat_minor": 2
}
